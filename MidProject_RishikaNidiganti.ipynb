{
 "cells": [
  {
   "attachments": {},
   "cell_type": "markdown",
   "metadata": {},
   "source": [
    "#MIDTERM-PArtB-ProgrammingQuestion\n",
    "##Author - Rishika Nidiganti"
   ]
  },
  {
   "attachments": {},
   "cell_type": "markdown",
   "metadata": {},
   "source": [
    "In this report, I have used Cassandra to support the requirements that were asked. The new feature that is being introduced to the existing chat application is file attachment. This feature allows the users to attach the files and these files are stored to the database along with the username, the date that the file is attached, the type of the file and the attached file. "
   ]
  },
  {
   "attachments": {},
   "cell_type": "markdown",
   "metadata": {},
   "source": [
    "I used Cassandra to store this information. The process is as follows-"
   ]
  },
  {
   "cell_type": "code",
   "execution_count": 1,
   "metadata": {},
   "outputs": [],
   "source": [
    "import pandas as pd\n",
    "from cassandra.cluster import Cluster"
   ]
  },
  {
   "attachments": {},
   "cell_type": "markdown",
   "metadata": {},
   "source": [
    "Connecting to the 3-node cluster, which I started in the terminal"
   ]
  },
  {
   "cell_type": "code",
   "execution_count": 2,
   "metadata": {},
   "outputs": [],
   "source": [
    "clstr = Cluster()\n",
    "session = clstr.connect()"
   ]
  },
  {
   "attachments": {},
   "cell_type": "markdown",
   "metadata": {},
   "source": [
    "Dropping any keyspaces if already exists"
   ]
  },
  {
   "cell_type": "code",
   "execution_count": 3,
   "metadata": {},
   "outputs": [
    {
     "data": {
      "text/plain": [
       "<cassandra.cluster.ResultSet at 0x7fca067583a0>"
      ]
     },
     "execution_count": 3,
     "metadata": {},
     "output_type": "execute_result"
    }
   ],
   "source": [
    "session.execute(\"DROP KEYSPACE IF EXISTS m14\")"
   ]
  },
  {
   "cell_type": "code",
   "execution_count": null,
   "metadata": {},
   "outputs": [],
   "source": [
    "Checking to see all the available keyspaces"
   ]
  },
  {
   "cell_type": "code",
   "execution_count": 4,
   "metadata": {},
   "outputs": [
    {
     "name": "stdout",
     "output_type": "stream",
     "text": [
      "system\n",
      "system_auth\n",
      "system_distributed\n",
      "system_schema\n",
      "system_traces\n",
      "system_views\n",
      "system_virtual_schema\n",
      "w04python\n"
     ]
    }
   ],
   "source": [
    "rows = session.execute(\"desc keyspaces\")\n",
    "for row in rows:\n",
    "    print(f\"{row[0]}\")"
   ]
  },
  {
   "attachments": {},
   "cell_type": "markdown",
   "metadata": {},
   "source": [
    "Creating a keyspace called m14 with a replication factor of 2, as it is a 3 node cluster."
   ]
  },
  {
   "cell_type": "code",
   "execution_count": 5,
   "metadata": {},
   "outputs": [
    {
     "data": {
      "text/plain": [
       "<cassandra.cluster.ResultSet at 0x7fc9cb394460>"
      ]
     },
     "execution_count": 5,
     "metadata": {},
     "output_type": "execute_result"
    }
   ],
   "source": [
    "session.execute(\"\"\"\n",
    "    CREATE KEYSPACE IF NOT EXISTS m14 WITH REPLICATION = {\n",
    "        'class':'SimpleStrategy', \n",
    "        'replication_factor':2\n",
    "    }\n",
    "\"\"\")"
   ]
  },
  {
   "attachments": {},
   "cell_type": "markdown",
   "metadata": {},
   "source": [
    "Checking to see if the keyspace has been created"
   ]
  },
  {
   "cell_type": "code",
   "execution_count": 6,
   "metadata": {},
   "outputs": [
    {
     "name": "stdout",
     "output_type": "stream",
     "text": [
      "m14\n",
      "system\n",
      "system_auth\n",
      "system_distributed\n",
      "system_schema\n",
      "system_traces\n",
      "system_views\n",
      "system_virtual_schema\n",
      "w04python\n"
     ]
    }
   ],
   "source": [
    "rows = session.execute(\"desc keyspaces\")\n",
    "for row in rows:\n",
    "    print(f\"{row[0]}\")"
   ]
  },
  {
   "attachments": {},
   "cell_type": "markdown",
   "metadata": {},
   "source": [
    "Here, I have created a table called fileattachments, which stores all the information like username, date_attachment, file_type and the attached_file"
   ]
  },
  {
   "cell_type": "code",
   "execution_count": 7,
   "metadata": {},
   "outputs": [
    {
     "data": {
      "text/plain": [
       "<cassandra.cluster.ResultSet at 0x7fc9cb42e260>"
      ]
     },
     "execution_count": 7,
     "metadata": {},
     "output_type": "execute_result"
    }
   ],
   "source": [
    "session.execute(\"\"\"\n",
    "CREATE TABLE IF NOT EXISTS m14.fileattachments ( \n",
    "    username TEXT, \n",
    "    date_attachment TEXT, \n",
    "    file_type TEXT, \n",
    "    attached_file TEXT, \n",
    "    PRIMARY KEY(username, date_attachment)\n",
    ");\n",
    "\"\"\")"
   ]
  },
  {
   "attachments": {},
   "cell_type": "markdown",
   "metadata": {},
   "source": [
    "I am inserting some sample made up data into this table"
   ]
  },
  {
   "cell_type": "code",
   "execution_count": 8,
   "metadata": {},
   "outputs": [],
   "source": [
    "# Sample data to insert\n",
    "sample_data = [\n",
    "    (\"uname1\", \"10-04-2023\", \"txt\", \"file1.txt\"),\n",
    "    (\"uname2\", \"10-03-2023\", \"png\", \"file2.png\"),\n",
    "    (\"uname3\", \"10-04-2023\", \"txt\", \"file3.txt\"),\n",
    "    (\"uname4\", \"10-01-2023\", \"mov\", \"file4.mov\"),\n",
    "    (\"uname5\", \"10-02-2023\", \"txt\", \"file5.txt\"),\n",
    "]\n",
    "\n",
    "# Insert the data\n",
    "for entry in sample_data:\n",
    "    insert_query = \"\"\"\n",
    "    INSERT INTO m14.fileattachments (username, date_attachment, file_type, attached_file)\n",
    "    VALUES (%s, %s, %s, %s)\n",
    "    \"\"\"\n",
    "    session.execute(insert_query, entry)\n"
   ]
  },
  {
   "cell_type": "code",
   "execution_count": null,
   "metadata": {},
   "outputs": [],
   "source": [
    "In order to retrieve all the stored files from the database, we use the following query:"
   ]
  },
  {
   "cell_type": "code",
   "execution_count": 9,
   "metadata": {},
   "outputs": [
    {
     "name": "stdout",
     "output_type": "stream",
     "text": [
      "username\t\tDate_attachment\t\tfile_type\t\tfile_attached\n",
      "--------------------------------------------------------------------------------\n",
      "uname3\t\t10-04-2023\t\ttxt\t\tfile3.txt\n",
      "uname2\t\t10-03-2023\t\tpng\t\tfile2.png\n",
      "uname5\t\t10-02-2023\t\ttxt\t\tfile5.txt\n",
      "uname4\t\t10-01-2023\t\tmov\t\tfile4.mov\n",
      "uname1\t\t10-04-2023\t\ttxt\t\tfile1.txt\n"
     ]
    }
   ],
   "source": [
    "# Query to fetch all records from fileattachments\n",
    "query = \"SELECT * FROM m14.fileattachments\"\n",
    "rows = session.execute(query)\n",
    "\n",
    "# Print the data\n",
    "print(\"username\\t\\tDate_attachment\\t\\tfile_type\\t\\tfile_attached\")\n",
    "print(\"-\" * 80)  # just a separator line\n",
    "for row in rows:\n",
    "    print(f\"{row.username}\\t\\t{row.date_attachment}\\t\\t{row.file_type}\\t\\t{row.attached_file}\")\n"
   ]
  },
  {
   "cell_type": "code",
   "execution_count": 10,
   "metadata": {},
   "outputs": [
    {
     "name": "stdout",
     "output_type": "stream",
     "text": [
      "username=uname3, date_attachment=10-04-2023, file_type=txt, attached_file=file3.txt\n",
      "username=uname2, date_attachment=10-03-2023, file_type=png, attached_file=file2.png\n",
      "username=uname5, date_attachment=10-02-2023, file_type=txt, attached_file=file5.txt\n",
      "username=uname4, date_attachment=10-01-2023, file_type=mov, attached_file=file4.mov\n",
      "username=uname1, date_attachment=10-04-2023, file_type=txt, attached_file=file1.txt\n"
     ]
    }
   ],
   "source": [
    "rows = session.execute(\"SELECT (username, date_attachment, file_type, attached_file) FROM m14.fileattachments\")\n",
    "for row in rows:\n",
    "    print(f\"username={row[0][0]}, date_attachment={row[0][1]}, file_type={row[0][2]}, attached_file={row[0][3]}\")"
   ]
  },
  {
   "attachments": {},
   "cell_type": "markdown",
   "metadata": {},
   "source": [
    "Now, in order to insert the attchments into the database, we can develop function called add_file() which inserts the attached file into our table."
   ]
  },
  {
   "cell_type": "markdown",
   "metadata": {},
   "source": [
    "In order to delete an existing record, we can use a function called delete_file(), which deletes the file from the system"
   ]
  },
  {
   "attachments": {},
   "cell_type": "markdown",
   "metadata": {},
   "source": [
    "All these new entries will be inserted into our database following the same format. The username will be the username of the person who is attaching the file, the date that he has attached the file, the type of the file that he is attaching and the attached file will be stored in the database."
   ]
  },
  {
   "cell_type": "markdown",
   "metadata": {},
   "source": [
    "In this way users can now attach files or delete them if not needed. The files can also be retrieved as required."
   ]
  }
 ],
 "metadata": {
  "kernelspec": {
   "display_name": "base",
   "language": "python",
   "name": "python3"
  },
  "language_info": {
   "codemirror_mode": {
    "name": "ipython",
    "version": 3
   },
   "file_extension": ".py",
   "mimetype": "text/x-python",
   "name": "python",
   "nbconvert_exporter": "python",
   "pygments_lexer": "ipython3",
   "version": "3.10.13"
  },
  "orig_nbformat": 4
 },
 "nbformat": 4,
 "nbformat_minor": 2
}
